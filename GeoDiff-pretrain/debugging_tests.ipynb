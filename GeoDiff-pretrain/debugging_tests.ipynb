{
 "cells": [
  {
   "cell_type": "code",
   "execution_count": 4,
   "metadata": {},
   "outputs": [
    {
     "name": "stdout",
     "output_type": "stream",
     "text": [
      "Data(atom_type=[16], boltzmannweight=[1], edge_index=[2, 30], edge_type=[30], idx=[1], nx=Graph with 16 nodes and 15 edges, pos=[16, 3], rdmol=<rdkit.Chem.rdchem.Mol object at 0x292746660>, smiles=\"O=CCC#CCCO\", totalenergy=[1])\n",
      "Data(atom_type=[16], boltzmannweight=[1], edge_index=[2, 30], edge_type=[30], idx=[1], nx=Graph with 16 nodes and 15 edges, pos=[16, 3], rdmol=<rdkit.Chem.rdchem.Mol object at 0x2927473d0>, smiles=\"O=CCC#CCCO\", totalenergy=[1])\n",
      "Data(atom_type=[16], boltzmannweight=[1], edge_index=[2, 30], edge_type=[30], idx=[1], nx=Graph with 16 nodes and 15 edges, pos=[16, 3], rdmol=<rdkit.Chem.rdchem.Mol object at 0x292744310>, smiles=\"O=CCC#CCCO\", totalenergy=[1])\n",
      "Data(atom_type=[16], boltzmannweight=[1], edge_index=[2, 30], edge_type=[30], idx=[1], nx=Graph with 16 nodes and 15 edges, pos=[16, 3], rdmol=<rdkit.Chem.rdchem.Mol object at 0x292746200>, smiles=\"O=CCC#CCCO\", totalenergy=[1])\n",
      "Data(atom_type=[16], boltzmannweight=[1], edge_index=[2, 30], edge_type=[30], idx=[1], nx=Graph with 16 nodes and 15 edges, pos=[16, 3], rdmol=<rdkit.Chem.rdchem.Mol object at 0x292745ee0>, smiles=\"O=CCC#CCCO\", totalenergy=[1])\n"
     ]
    }
   ],
   "source": [
    "import pickle\n",
    "from rdkit.Chem.Draw import IPythonConsole\n",
    "with open('/Users/rbasto/Downloads/GeoDiff-pretrain/data/GEOM/QM9/test_data_1k.pkl', 'rb') as f:\n",
    "    data = pickle.load(f)\n",
    "\n",
    "for i in range(5):\n",
    "    # IPythonConsole.drawMol3D(data[i].rdmol)\n",
    "    print(data[i])"
   ]
  },
  {
   "cell_type": "code",
   "execution_count": null,
   "metadata": {},
   "outputs": [],
   "source": []
  }
 ],
 "metadata": {
  "kernelspec": {
   "display_name": "geodiff",
   "language": "python",
   "name": "python3"
  },
  "language_info": {
   "codemirror_mode": {
    "name": "ipython",
    "version": 3
   },
   "file_extension": ".py",
   "mimetype": "text/x-python",
   "name": "python",
   "nbconvert_exporter": "python",
   "pygments_lexer": "ipython3",
   "version": "3.11.6"
  },
  "orig_nbformat": 4
 },
 "nbformat": 4,
 "nbformat_minor": 2
}
